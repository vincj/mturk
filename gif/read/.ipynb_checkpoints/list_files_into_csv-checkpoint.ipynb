{
 "cells": [
  {
   "cell_type": "markdown",
   "metadata": {},
   "source": [
    "### list files into csv"
   ]
  },
  {
   "cell_type": "code",
   "execution_count": null,
   "metadata": {},
   "outputs": [],
   "source": [
    "# Cats = 0 vs Dogs = 1\n",
    "import os\n",
    "\n",
    "with open(\"/Users/vin/Documents/images/cats-dogs/label-cat-dog.csv\", \"w\") as a:\n",
    "    for path, subdirs, files in os.walk(r'/Users/vin/Documents/images/cats-dogs/train'):\n",
    "    \tfor filename in files:\n",
    "    \t\tf = os.path.join(path, filename)\n",
    "    \t\tif \"cat\" in filename:\n",
    "    \t\t\ta.write(str(f) + \" 0\" + os.linesep) \n",
    "    \t\telse:\n",
    "    \t\t\ta.write(str(f) + \" 1\" + os.linesep) "
   ]
  },
  {
   "cell_type": "code",
   "execution_count": 5,
   "metadata": {},
   "outputs": [],
   "source": [
    "# list files in csv\n",
    "import os             \n",
    "all_files = os.listdir(\"gifRead800/\") \n",
    "with open('batch2.csv','a') as target:\n",
    "    target.write('image_url' + '\\n')\n",
    "    for line in all_files:\n",
    "        target.write('static/dataset/gifRead800/' + line + '\\n')"
   ]
  },
  {
   "cell_type": "code",
   "execution_count": 26,
   "metadata": {},
   "outputs": [],
   "source": [
    "import os\n",
    "\n",
    "with open(\"label-ggl-read.csv\", \"a\") as a:\n",
    "    for path, subdirs, files in os.walk(r'/home/klab/vincent/official/images/homemade/reading/yes'):\n",
    "        for filename in files:\n",
    "            f = os.path.join(path, filename)\n",
    "            a.write(str(f) + \" 1\" + os.linesep) "
   ]
  },
  {
   "cell_type": "markdown",
   "metadata": {},
   "source": [
    "### Shuffle lines"
   ]
  },
  {
   "cell_type": "code",
   "execution_count": 27,
   "metadata": {},
   "outputs": [
    {
     "name": "stdout",
     "output_type": "stream",
     "text": [
      "(0.8139090696813109, '/home/klab/vincent/official/images/homemade/reading/no/pp280c_256x256.jpg 0\\n')\n"
     ]
    }
   ],
   "source": [
    "# shuffle lines\n",
    "import random\n",
    "with open('findMisclassHomeSit.csv','r') as source:\n",
    "    data = [ (random.random(), line) for line in source ]\n",
    "    print(data[0])\n",
    "data.sort()\n",
    "with open('findMisclassHomeSit-shuf.csv','w') as target:\n",
    "    for _, line in data:\n",
    "        target.write( line )"
   ]
  },
  {
   "cell_type": "code",
   "execution_count": null,
   "metadata": {},
   "outputs": [],
   "source": []
  }
 ],
 "metadata": {
  "kernelspec": {
   "display_name": "Python 3",
   "language": "python",
   "name": "python3"
  },
  "language_info": {
   "codemirror_mode": {
    "name": "ipython",
    "version": 3
   },
   "file_extension": ".py",
   "mimetype": "text/x-python",
   "name": "python",
   "nbconvert_exporter": "python",
   "pygments_lexer": "ipython3",
   "version": "3.6.5"
  }
 },
 "nbformat": 4,
 "nbformat_minor": 2
}
